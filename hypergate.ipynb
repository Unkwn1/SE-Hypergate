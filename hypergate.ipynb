{
  "metadata": {
    "language_info": {
      "codemirror_mode": {
        "name": "python",
        "version": 3
      },
      "file_extension": ".py",
      "mimetype": "text/x-python",
      "name": "python",
      "nbconvert_exporter": "python",
      "pygments_lexer": "ipython3",
      "version": "3.8"
    },
    "kernelspec": {
      "name": "python",
      "display_name": "Python (Pyodide)",
      "language": "python"
    }
  },
  "nbformat_minor": 4,
  "nbformat": 4,
  "cells": [
    {
      "cell_type": "code",
      "source": "import numpy as np\n\n# Start glyph\ntarget_vector = np.array([0.29737395449823, -0.94155024712979, 0.15827780424279])\nstart_vector = np.array([0.18983879552606, -0.9818152737217, 0])\n\nglyph1 = np.array([0.39831700267993, -0.85296865578697, 0.3373248250886])\nglyph2 = np.array([0.18983879552606, -0.9818152737217, 0])\n\nprint(np.dot(glyph1, target_vector))\nprint(np.dot(glyph2, target_vector))\n",
      "metadata": {
        "trusted": true
      },
      "execution_count": 7,
      "outputs": [
        {
          "name": "stdout",
          "text": "0.9749529835126061\n0.9808815269512343\n",
          "output_type": "stream"
        }
      ]
    },
    {
      "cell_type": "code",
      "source": "# Glyph 2\n\ncandidate1 = np.array([0.2578876309611, -0.93826595916962, 0.23054491896546])\ncandidate2 = np.array([0.23756216274032, -0.93235010089966, 0.27255734843613])\ncandidate3 = np.array([0.30839991656099, -0.92406741433044, 0.22580723026029])\ncandidate4 = np.array([0.39831700267993, -0.85296865578697, 0.3373248250886]) # identity\n\nprint(np.dot(candidate1, target_vector))\nprint(np.dot(candidate2, target_vector))\nprint(np.dot(candidate3, target_vector))\nprint(np.dot(candidate4, target_vector))",
      "metadata": {
        "trusted": true
      },
      "execution_count": 9,
      "outputs": [
        {
          "name": "stdout",
          "text": "0.9966037539178926\n0.9916390463275082\n0.9975062776698224\n0.9749529835126061\n",
          "output_type": "stream"
        }
      ]
    },
    {
      "cell_type": "code",
      "source": "# Glyph 3\n\ncandidate1 = np.array([0.3045462890841, -0.92647744481758, 0.22111332399787])\ncandidate2 = np.array([0.29824853476143, -0.92837467939717, 0.2217391850054])\ncandidate3 = np.array([0.2943935212275, -0.93071186166462, 0.21704350996069])\ncandidate4 = np.array([0.30839991656099, -0.92406741433044, 0.22580723026029]) # identity\n\nprint(np.dot(candidate1, target_vector))\nprint(np.dot(candidate2, target_vector))\nprint(np.dot(candidate3, target_vector))\nprint(np.dot(candidate4, target_vector))",
      "metadata": {
        "trusted": true
      },
      "execution_count": 16,
      "outputs": [
        {
          "name": "stdout",
          "text": "0.9978865328520762\n0.9978991463379947\n0.9982101191247563\n0.9975062776698224\n",
          "output_type": "stream"
        }
      ]
    },
    {
      "cell_type": "code",
      "source": "right_corner = np.array([0.57735021142964, -0.57735041155694, 0.57735018458227])\ntop_corner = np.array([0.52573107107952, -0.8506508337159, 1.4848270733249e-07])\nleft_corner = np.array([1.7533007652899e-07, -0.93417235727245, 0.35682209419822])\n\ntop_fr_center = np.array([0.41856259955263, -0.8591652476213, 0.29434746055568])\nright_fr_center = np.array([0.42642857325082, -0.82398946646319, 0.37309520376571])\nleft_fr_center = np.array([0.34830020365025, -0.87227545436196, 0.3432528220639])\n\nsub_side_up = glyph1 - top_fr_center\nsub_side_r = glyph1 - right_fr_center\nsub_side_l = glyph1 - left_fr_center\nprint(sub_side_up, sub_side_r, sub_side_l)",
      "metadata": {
        "trusted": true
      },
      "execution_count": 8,
      "outputs": [
        {
          "name": "stdout",
          "text": "[-0.0202456   0.00619659  0.04297736] [-0.02811157 -0.02897919 -0.03577038] [ 0.0500168  0.0193068 -0.005928 ]\n",
          "output_type": "stream"
        }
      ]
    },
    {
      "cell_type": "code",
      "source": "target_vector = np.array([0.29737395449823, -0.94155024712979, 0.15827780424279])\n\nvec1 = top_fr_center - left_fr_center\nvec2 =  top_fr_center - right_fr_center\n\nplane = np.cross(vec1, vec2)\nprint(plane)\n# plane is -0.00275268(x - 0.52573107107952) + 0.00591769(y + -0.8506508337159) + -0.00236841(z - 1.4848270733249e-07) = 0   <- this is an approximation, why would I do this, I can calculate the exact tangent plane\n\nprojT = target_vector - np.dot((np.dot(target_vector, plane)/np.linalg.norm(plane, 2)**2), plane)\nprint(projT)\nproj_rc = right_corner - np.dot((np.dot(right_corner, plane)/np.linalg.norm(plane, 2)**2), plane)\nproj_tc = top_corner - np.dot((np.dot(top_corner, plane)/np.linalg.norm(plane, 2)**2), plane)\nproj_lc = left_corner - np.dot((np.dot(left_corner, plane)/np.linalg.norm(plane, 2)**2), plane)\nprint(proj_rc, proj_tc, proj_lc)",
      "metadata": {
        "trusted": true
      },
      "execution_count": 9,
      "outputs": [
        {
          "name": "stdout",
          "text": "[-0.00275268  0.00591769 -0.00236841]\n[-0.0889409  -0.11105417 -0.17410767]\n[0.21341976 0.20502388 0.26422426] [ 0.15564407 -0.05504123 -0.31842288] [-0.36393027 -0.15179806  0.04369617]\n",
          "output_type": "stream"
        }
      ]
    },
    {
      "cell_type": "markdown",
      "source": "----------------",
      "metadata": {}
    },
    {
      "cell_type": "code",
      "source": "# Glyph 1/7\n\nimport numpy as np\nfrom sympy.solvers import solve\nfrom sympy import Symbol\n\n# plane is 0.39831700267993(x-0.39831700267993) - 0.85296865578697(y + 0.85296865578697) + 0.3373248250886(z - 0.3373248250886) = 0\ntarget_vector = np.array([0.29737395449823, -0.94155024712979, 0.15827780424279])\n\nt = Symbol('t')\nSV_bottom_left = np.array([0.022309014248043, -0.94783788183708, -0.31797115850007])\nt1 = solve(0.18983879552606*(SV_bottom_left[0]*t - 0.18983879552606) - 0.9818152737217*(SV_bottom_left[1]*t + 0.9818152737217) + 0*(SV_bottom_left[2]*t - 0), t)\n#print(t1)\nbottom_left_corner = SV_bottom_left * t1\n\nSV_adj_bottom_left = np.array([0.045350385200006, -0.95979326644615, -0.27702026685216])\nt2 = solve(0.18983879552606*(SV_adj_bottom_left[0]*t - 0.18983879552606) - 0.9818152737217*(SV_adj_bottom_left[1]*t + 0.9818152737217) + 0*(SV_adj_bottom_left[2]*t - 0), t)\n#print(t2)\nadj_bottom_left_corner = SV_adj_bottom_left * t2\n\nSV_up_adj_bottom_left = np.array([0.091047784910431, -0.95623310145537, -0.27808012612187])\nt3 = solve(0.18983879552606*(SV_up_adj_bottom_left[0]*t - 0.18983879552606) - 0.9818152737217*(SV_up_adj_bottom_left[1]*t + 0.9818152737217) + 0*(SV_up_adj_bottom_left[2]*t - 0), t)\n#print(t3)\nup_adj_bottom_left_corner = SV_up_adj_bottom_left * t3\n\nSV_down_adj_bottom_left = np.array([0.022882799194568, -0.9722161489491, -0.23296381097416])\nt4 = solve(0.18983879552606*(SV_down_adj_bottom_left[0]*t - 0.18983879552606) - 0.9818152737217*(SV_down_adj_bottom_left[1]*t + 0.9818152737217) + 0*(SV_down_adj_bottom_left[2]*t - 0), t)\n#print(t4)\ndown_adj_bottom_left_corner = SV_down_adj_bottom_left * t4\n\ntest = np.array([0.16154248563038, -0.95849069268593, -0.23494598819901])\nt5 = solve(0.18983879552606*(test[0]*t - 0.18983879552606) - 0.9818152737217*(test[1]*t + 0.9818152737217) + 0*(test[2]*t - 0), t)\n#print(t5)\ntest_1 = test * t5\n\ntest_2 = test_1 - up_adj_bottom_left_corner\nprint(test_2)\n#print(np.linalg.norm(test_2.astype(float)))\n\nfirst_diag = []\nup_right_interval = up_adj_bottom_left_corner - bottom_left_corner\nprint(up_right_interval)\n#print(np.linalg.norm(up_right_interval.astype(float)))\n#print(\"percent: \", abs(np.linalg.norm(up_right_interval.astype(float)) - np.linalg.norm(test_2.astype(float))) / np.linalg.norm(test_2.astype(float)))\nfor i in range(8):\n    first_diag.append(bottom_left_corner + test_2*i)\ndiag_1 = np.array(first_diag)\n#print(diag_1)\n#print(adj_bottom_left_corner)\n\nup_diag_interval = adj_bottom_left_corner - bottom_left_corner\ndiag_2 = diag_1[:-1] + up_diag_interval\n#print(diag_2)\n#print(adj_bottom_left_corner)\n\nright_interval = down_adj_bottom_left_corner - diag_2[0]\n\ndiags = [diag_1, diag_2]\nfor i in range(13):\n    if i % 2 == 0:\n        diags.append(diags[i+1] + right_interval)\n    else:\n        diags.append(diags[i+1][:-1] + up_diag_interval)\n\n# print(diags)  # You have no idea how long getting here took\n\nmin_dot_cord = [0, 0]\nmin_dot = 10\nfor i in range(len(diags)):\n    diags[i] = diags[i].astype(float)\n    for j in range(len(diags[i])):\n        current_dot = abs(1 - np.dot(target_vector, diags[i][j] / np.linalg.norm(diags[i][j])))\n        print(diags[i][j] / np.linalg.norm(diags[i][j]))\n        if current_dot < min_dot:\n            min_dot = current_dot\n            min_dot_cord = (i, j)\nprint(min_dot_cord)\nprint(diags[min_dot_cord[0]][min_dot_cord[1]] / np.linalg.norm(diags[min_dot_cord[0]][min_dot_cord[1]]))\nprint(diags[4][0] / np.linalg.norm(diags[4][0]))\nprint(min_dot)",
      "metadata": {
        "trusted": true
      },
      "execution_count": 2,
      "outputs": [
        {
          "name": "stdout",
          "text": "[0.0710170694885413 0.0137314984746473 0.0490579691898740]\n[0.0713613795435393 0.0137980725114117 0.0492958155582446]\n[ 0.02230901 -0.94783788 -0.31797116]\n[ 0.09071003 -0.95620667 -0.27828132]\n[ 0.16119786 -0.95849563 -0.23516245]\n[ 0.2323667  -0.95403751 -0.18925685]\n[ 0.3026553  -0.94254719 -0.1414375 ]\n[ 0.37050628 -0.92418926 -0.09273242]\n[ 0.43453373 -0.89956949 -0.04421724]\n[ 0.49365871 -0.8696502   0.0030988 ]\n[ 0.04535039 -0.95979327 -0.27702027]\n[ 0.11508472 -0.96519241 -0.2348598 ]\n[ 0.18627928 -0.96401208 -0.18968589]\n[ 0.25741713 -0.95576549 -0.14229808]\n[ 0.32690128 -0.94040341 -0.09368558]\n[ 0.39322642 -0.9183433  -0.04492847]\n[ 0.45513749 -0.89041639  0.00291889]\n[ 0.0228828  -0.97221615 -0.23296381]\n[ 0.0927293  -0.9774925  -0.18949851]\n[ 0.16413722 -0.97597332 -0.14330053]\n[ 0.23556782 -0.96718046 -0.09523524]\n[ 0.30540032 -0.95109592 -0.04633785]\n[ 0.37210869 -0.92818633  0.00229377]\n[ 0.43442338 -0.89934105  0.04961862]\n[ 0.04634983 -0.98094538 -0.18867394]\n[ 0.11717615 -0.98273277 -0.14319932]\n[ 0.18885529 -0.97734314 -0.0955723 ]\n[ 0.25977886 -0.96453435 -0.0467806 ]\n[ 0.32834468 -0.94455568  0.0020825 ]\n[ 0.39313279 -0.91812465  0.04993733]\n[ 0.02329087 -0.98955369 -0.14227095]\n[ 0.0940059  -0.99094954 -0.09582222]\n[ 0.16566101 -0.9850339  -0.04758827]\n[ 0.23664318 -0.97159562  0.00139996]\n[ 0.30534578 -0.95092607  0.05003569]\n[ 0.37034558 -0.92378841  0.09725801]\n[ 0.04698175 -0.99431941 -0.09550719]\n[ 0.11826154 -0.99183572 -0.04770862]\n[ 0.18972362 -0.98183684  0.00116977]\n[ 0.25973785 -0.96438208  0.05003453]\n[ 0.32677155 -0.94003021  0.09779344]\n[ 0.02350326 -0.99857768 -0.04785612]\n[ 9.44404593e-02 -9.95530403e-01  4.65018571e-04]\n[ 0.16564602 -0.98494472  0.04944987]\n[ 0.2355044  -0.96692009  0.09799604]\n[ 0.30249613 -0.94205151  0.14503465]\n[ 4.71975018e-02 -9.98885550e-01  2.32962106e-04]\n[ 0.11825353 -0.99176851  0.04910519]\n[ 0.18881275 -0.97712304  0.09787908]\n[ 0.25729748 -0.95532122  0.14546261]\n[ 0.02350326 -0.99857768  0.04785612]\n[ 0.09399752 -0.99086122  0.09673935]\n[ 0.16409347 -0.97571318  0.14511076]\n[ 0.23224501 -0.95353788  0.19190561]\n[ 0.04697967 -0.99427526  0.09596673]\n[ 0.11715277 -0.98253669  0.14455752]\n[ 0.18619768 -0.96358978  0.19189885]\n[ 0.02329087 -0.98955369  0.14227095]\n[ 0.09271322 -0.97732299  0.19037867]\n[ 0.16112881 -0.95808503  0.23687674]\n[ 0.04634582 -0.9808606   0.18911515]\n[ 0.11504781 -0.96488285  0.23614632]\n[ 0.0228828  -0.97221615  0.23296381]\n[ 0.09068746 -0.95596868  0.27910514]\n[ 0.04534476 -0.95967416  0.27743352]\n[ 0.02230901 -0.94783788  0.31797116]\n(6, 4)\n[ 0.30249613 -0.94205151  0.14503465]\n[ 0.02329087 -0.98955369 -0.14227095]\n0.00010093456112081345\n",
          "output_type": "stream"
        }
      ]
    },
    {
      "cell_type": "code",
      "source": "# Glyph 2/7\n\nt = Symbol('t')\nSV_bottom_left = np.array([0.28391784830449, -0.95348081729694, 0.10131626947785])\nt1 = solve(0.18983879552606*(SV_bottom_left[0]*t - 0.18983879552606) - 0.9818152737217*(SV_bottom_left[1]*t + 0.9818152737217) + 0*(SV_bottom_left[2]*t - 0), t)\n#print(t1)\nbottom_left_corner = SV_bottom_left * t1\n\nSV_adj_bottom_left = np.array([0.28655452419658, -0.95205127828681, 0.10716747722573])\nt2 = solve(0.18983879552606*(SV_adj_bottom_left[0]*t - 0.18983879552606) - 0.9818152737217*(SV_adj_bottom_left[1]*t + 0.9818152737217) + 0*(SV_adj_bottom_left[2]*t - 0), t)\n#print(t2)\nadj_bottom_left_corner = SV_adj_bottom_left * t2\n\nSV_up_adj_bottom_left = np.array([0.29216636714988, -0.9503538781119, 0.10708090522646])\nt3 = solve(0.18983879552606*(SV_up_adj_bottom_left[0]*t - 0.18983879552606) - 0.9818152737217*(SV_up_adj_bottom_left[1]*t + 0.9818152737217) + 0*(SV_up_adj_bottom_left[2]*t - 0), t)\n#print(t3)\nup_adj_bottom_left_corner = SV_up_adj_bottom_left * t3\n\nSV_down_adj_bottom_left = np.array([0.2835555020963, -0.95226395065473, 0.11309131493778])\nt4 = solve(0.18983879552606*(SV_down_adj_bottom_left[0]*t - 0.18983879552606) - 0.9818152737217*(SV_down_adj_bottom_left[1]*t + 0.9818152737217) + 0*(SV_down_adj_bottom_left[2]*t - 0), t)\n#print(t4)\ndown_adj_bottom_left_corner = SV_down_adj_bottom_left * t4\n\nfirst_diag = []\nup_right_interval = up_adj_bottom_left_corner - bottom_left_corner\nfor i in range(8):\n    first_diag.append(bottom_left_corner + up_right_interval*i)\ndiag_1 = np.array(first_diag)\n\nup_diag_interval = adj_bottom_left_corner - bottom_left_corner\ndiag_2 = diag_1[:-1] + up_diag_interval\n\nright_interval = down_adj_bottom_left_corner - diag_2[0]\n\ndiags = [diag_1, diag_2]\nfor i in range(13):\n    if i % 2 == 0:\n        diags.append(diags[i+1] + right_interval)\n    else:\n        diags.append(diags[i+1][:-1] + up_diag_interval)\n\nmin_dot_cord = [0, 0]\nmin_dot = 10\nfor i in range(len(diags)):\n    diags[i] = diags[i].astype(float)\n    for j in range(len(diags[i])):\n        current_dot = abs(1 - np.dot(target_vector, diags[i][j] / np.linalg.norm(diags[i][j])))\n        #print(diags[i][j] / np.linalg.norm(diags[i][j]))\n        if current_dot < min_dot:\n            min_dot = current_dot\n            min_dot_cord = (i, j)\nprint(min_dot_cord)\nprint(diags[min_dot_cord[0]][min_dot_cord[1]] / np.linalg.norm(diags[min_dot_cord[0]][min_dot_cord[1]]))\nprint(min_dot)",
      "metadata": {
        "trusted": true
      },
      "execution_count": 3,
      "outputs": [
        {
          "name": "stdout",
          "text": "(8, 2)\n[ 0.2984257  -0.94104274  0.15931308]\n1.217770619565961e-06\n",
          "output_type": "stream"
        }
      ]
    },
    {
      "cell_type": "code",
      "source": "# Glyph 3/7\n\nt = Symbol('t')\nSV_bottom_left = np.array([0.29623778153661, -0.94256766506046, 0.15430286313851])\nt1 = solve(0.18983879552606*(SV_bottom_left[0]*t - 0.18983879552606) - 0.9818152737217*(SV_bottom_left[1]*t + 0.9818152737217) + 0*(SV_bottom_left[2]*t - 0), t)\n#print(t1)\nbottom_left_corner = SV_bottom_left * t1\n\nSV_adj_bottom_left = np.array([0.2965507417259, -0.94235234500546, 0.1550152103651])\nt2 = solve(0.18983879552606*(SV_adj_bottom_left[0]*t - 0.18983879552606) - 0.9818152737217*(SV_adj_bottom_left[1]*t + 0.9818152737217) + 0*(SV_adj_bottom_left[2]*t - 0), t)\n#print(t2)\nadj_bottom_left_corner = SV_adj_bottom_left * t2\n\nSV_up_adj_bottom_left = np.array([0.29724407884285, -0.94213659883565, 0.15499866685641])\nt3 = solve(0.18983879552606*(SV_up_adj_bottom_left[0]*t - 0.18983879552606) - 0.9818152737217*(SV_up_adj_bottom_left[1]*t + 0.9818152737217) + 0*(SV_up_adj_bottom_left[2]*t - 0), t)\n#print(t3)\nup_adj_bottom_left_corner = SV_up_adj_bottom_left * t3\n\nSV_down_adj_bottom_left = np.array([0.29616998679182, -0.94235195613243, 0.1557437950517])\nt4 = solve(0.18983879552606*(SV_down_adj_bottom_left[0]*t - 0.18983879552606) - 0.9818152737217*(SV_down_adj_bottom_left[1]*t + 0.9818152737217) + 0*(SV_down_adj_bottom_left[2]*t - 0), t)\n#print(t4)\ndown_adj_bottom_left_corner = SV_down_adj_bottom_left * t4\n\nfirst_diag = []\nup_right_interval = up_adj_bottom_left_corner - bottom_left_corner\nfor i in range(8):\n    first_diag.append(bottom_left_corner + up_right_interval*i)\ndiag_1 = np.array(first_diag)\n\nup_diag_interval = adj_bottom_left_corner - bottom_left_corner\ndiag_2 = diag_1[:-1] + up_diag_interval\n\nright_interval = down_adj_bottom_left_corner - diag_2[0]\n\ndiags = [diag_1, diag_2]\nfor i in range(13):\n    if i % 2 == 0:\n        diags.append(diags[i+1] + right_interval)\n    else:\n        diags.append(diags[i+1][:-1] + up_diag_interval)\n\nmin_dot_cord = [0, 0]\nmin_dot = 10\nfor i in range(len(diags)):\n    diags[i] = diags[i].astype(float)\n    for j in range(len(diags[i])):\n        current_dot = abs(1 - np.dot(target_vector, diags[i][j] / np.linalg.norm(diags[i][j])))\n        #print(diags[i][j] / np.linalg.norm(diags[i][j]))\n        if current_dot < min_dot:\n            min_dot = current_dot\n            min_dot_cord = (i, j)\nprint(min_dot_cord)\nprint(diags[min_dot_cord[0]][min_dot_cord[1]] / np.linalg.norm(diags[min_dot_cord[0]][min_dot_cord[1]]))\nprint(min_dot)",
      "metadata": {
        "trusted": true
      },
      "execution_count": 4,
      "outputs": [
        {
          "name": "stdout",
          "text": "(5, 1)\n[ 0.29741857 -0.94148378  0.15858903]\n5.163549032793924e-08\n",
          "output_type": "stream"
        }
      ]
    },
    {
      "cell_type": "code",
      "source": "# Glyph 4/7\n\nt = Symbol('t')\nSV_bottom_left = np.array([0.29769103335384, -0.94129276679002, 0.1592104765696])\nt1 = solve(0.18983879552606*(SV_bottom_left[0]*t - 0.18983879552606) - 0.9818152737217*(SV_bottom_left[1]*t + 0.9818152737217) + 0*(SV_bottom_left[2]*t - 0), t)\n#print(t1)\nbottom_left_corner = SV_bottom_left * t1\n\nSV_adj_bottom_left = np.array([0.29765212097465, -0.94132008519464, 0.15912168956009])\nt2 = solve(0.18983879552606*(SV_adj_bottom_left[0]*t - 0.18983879552606) - 0.9818152737217*(SV_adj_bottom_left[1]*t + 0.9818152737217) + 0*(SV_adj_bottom_left[2]*t - 0), t)\n#print(t2)\nadj_bottom_left_corner = SV_adj_bottom_left * t2\n\nSV_up_adj_bottom_left = np.array([0.29756555627888, -0.94134709255416, 0.15912382303183])\nt3 = solve(0.18983879552606*(SV_up_adj_bottom_left[0]*t - 0.18983879552606) - 0.9818152737217*(SV_up_adj_bottom_left[1]*t + 0.9818152737217) + 0*(SV_up_adj_bottom_left[2]*t - 0), t)\n#print(t3)\nup_adj_bottom_left_corner = SV_up_adj_bottom_left * t3\n\nSV_down_adj_bottom_left = np.array([0.29769976737546, -0.94132038358211, 0.15903076418551])\nt4 = solve(0.18983879552606*(SV_down_adj_bottom_left[0]*t - 0.18983879552606) - 0.9818152737217*(SV_down_adj_bottom_left[1]*t + 0.9818152737217) + 0*(SV_down_adj_bottom_left[2]*t - 0), t)\n#print(t4)\ndown_adj_bottom_left_corner = SV_down_adj_bottom_left * t4\n\nfirst_diag = []\nup_right_interval = up_adj_bottom_left_corner - bottom_left_corner\nfor i in range(8):\n    first_diag.append(bottom_left_corner + up_right_interval*i)\ndiag_1 = np.array(first_diag)\n\nup_diag_interval = adj_bottom_left_corner - bottom_left_corner\ndiag_2 = diag_1[:-1] + up_diag_interval\n\nright_interval = down_adj_bottom_left_corner - diag_2[0]\n\ndiags = [diag_1, diag_2]\nfor i in range(13):\n    if i % 2 == 0:\n        diags.append(diags[i+1] + right_interval)\n    else:\n        diags.append(diags[i+1][:-1] + up_diag_interval)\n\nmin_dot_cord = [0, 0]\nmin_dot = 10\nfor i in range(len(diags)):\n    diags[i] = diags[i].astype(float)\n    for j in range(len(diags[i])):\n        current_dot = abs(1 - np.dot(target_vector, diags[i][j] / np.linalg.norm(diags[i][j])))\n        #print(diags[i][j] / np.linalg.norm(diags[i][j]))\n        if current_dot < min_dot:\n            min_dot = current_dot\n            min_dot_cord = (i, j)\nprint(min_dot_cord)\nprint(diags[min_dot_cord[0]][min_dot_cord[1]] / np.linalg.norm(diags[min_dot_cord[0]][min_dot_cord[1]]))\nprint(min_dot)",
      "metadata": {
        "trusted": true
      },
      "execution_count": 5,
      "outputs": [
        {
          "name": "stdout",
          "text": "(8, 3)\n[ 0.29734934 -0.94156582  0.15823142]\n1.500060742287701e-09\n",
          "output_type": "stream"
        }
      ]
    },
    {
      "cell_type": "code",
      "source": "# Glyph 5/7\n\nt = Symbol('t')\nSV_bottom_left = np.array([0.29738342144354, -0.9415419889134, 0.15830913986102])\nt1 = solve(0.18983879552606*(SV_bottom_left[0]*t - 0.18983879552606) - 0.9818152737217*(SV_bottom_left[1]*t + 0.9818152737217) + 0*(SV_bottom_left[2]*t - 0), t)\n#print(t1)\nbottom_left_corner = SV_bottom_left * t1\n\nSV_adj_bottom_left = np.array([0.29737855217021, -0.94154539389862, 0.15829803516608])\nt2 = solve(0.18983879552606*(SV_adj_bottom_left[0]*t - 0.18983879552606) - 0.9818152737217*(SV_adj_bottom_left[1]*t + 0.9818152737217) + 0*(SV_adj_bottom_left[2]*t - 0), t)\n#print(t2)\nadj_bottom_left_corner = SV_adj_bottom_left * t2\n\nSV_up_adj_bottom_left = np.array([0.29736772835357, -0.9415487679036, 0.15829830003211])\nt3 = solve(0.18983879552606*(SV_up_adj_bottom_left[0]*t - 0.18983879552606) - 0.9818152737217*(SV_up_adj_bottom_left[1]*t + 0.9818152737217) + 0*(SV_up_adj_bottom_left[2]*t - 0), t)\n#print(t3)\nup_adj_bottom_left_corner = SV_up_adj_bottom_left * t3\n\nSV_down_adj_bottom_left = np.array([0.29738450662114, -0.94154542468084, 0.15828666552898])\nt4 = solve(0.18983879552606*(SV_down_adj_bottom_left[0]*t - 0.18983879552606) - 0.9818152737217*(SV_down_adj_bottom_left[1]*t + 0.9818152737217) + 0*(SV_down_adj_bottom_left[2]*t - 0), t)\n#print(t4)\ndown_adj_bottom_left_corner = SV_down_adj_bottom_left * t4\n\nfirst_diag = []\nup_right_interval = up_adj_bottom_left_corner - bottom_left_corner\nfor i in range(8):\n    first_diag.append(bottom_left_corner + up_right_interval*i)\ndiag_1 = np.array(first_diag)\n\nup_diag_interval = adj_bottom_left_corner - bottom_left_corner\ndiag_2 = diag_1[:-1] + up_diag_interval\n\nright_interval = down_adj_bottom_left_corner - diag_2[0]\n\ndiags = [diag_1, diag_2]\nfor i in range(13):\n    if i % 2 == 0:\n        diags.append(diags[i+1] + right_interval)\n    else:\n        diags.append(diags[i+1][:-1] + up_diag_interval)\n\nmin_dot_cord = [0, 0]\nmin_dot = 10\nfor i in range(len(diags)):\n    diags[i] = diags[i].astype(float)\n    for j in range(len(diags[i])):\n        current_dot = abs(1 - np.dot(target_vector, diags[i][j] / np.linalg.norm(diags[i][j])))\n        #print(diags[i][j] / np.linalg.norm(diags[i][j]))\n        if current_dot < min_dot:\n            min_dot = current_dot\n            min_dot_cord = (i, j)\nprint(min_dot_cord)\nprint(diags[min_dot_cord[0]][min_dot_cord[1]] / np.linalg.norm(diags[min_dot_cord[0]][min_dot_cord[1]]))\nprint(min_dot)",
      "metadata": {
        "trusted": true
      },
      "execution_count": 7,
      "outputs": [
        {
          "name": "stdout",
          "text": "(2, 1)\n[ 0.29736881 -0.9415522   0.15827583]\n1.7085333148258997e-11\n",
          "output_type": "stream"
        }
      ]
    },
    {
      "cell_type": "code",
      "source": "# Glyph 6/7\n\nt = Symbol('t')\nSV_bottom_left = np.array([0.29737307415036, -0.94154922435014, 0.15828554228361])\nt1 = solve(0.18983879552606*(SV_bottom_left[0]*t - 0.18983879552606) - 0.9818152737217*(SV_bottom_left[1]*t + 0.9818152737217) + 0*(SV_bottom_left[2]*t - 0), t)\n#print(t1)\nbottom_left_corner = SV_bottom_left * t1\n\nSV_adj_bottom_left = np.array([0.29737246547578, -0.94154964994561, 0.15828415417897])\nt2 = solve(0.18983879552606*(SV_adj_bottom_left[0]*t - 0.18983879552606) - 0.9818152737217*(SV_adj_bottom_left[1]*t + 0.9818152737217) + 0*(SV_adj_bottom_left[2]*t - 0), t)\n#print(t2)\nadj_bottom_left_corner = SV_adj_bottom_left * t2\n\nSV_up_adj_bottom_left = np.array([0.29737111249415, -0.94155007169552, 0.15828418728399])\nt3 = solve(0.18983879552606*(SV_up_adj_bottom_left[0]*t - 0.18983879552606) - 0.9818152737217*(SV_up_adj_bottom_left[1]*t + 0.9818152737217) + 0*(SV_up_adj_bottom_left[2]*t - 0), t)\n#print(t3)\nup_adj_bottom_left_corner = SV_up_adj_bottom_left * t3\n\nSV_down_adj_bottom_left = np.array([0.29737320978138, -0.94154965378808, 0.15828273296814])\nt4 = solve(0.18983879552606*(SV_down_adj_bottom_left[0]*t - 0.18983879552606) - 0.9818152737217*(SV_down_adj_bottom_left[1]*t + 0.9818152737217) + 0*(SV_down_adj_bottom_left[2]*t - 0), t)\n#print(t4)\ndown_adj_bottom_left_corner = SV_down_adj_bottom_left * t4\n\nfirst_diag = []\nup_right_interval = up_adj_bottom_left_corner - bottom_left_corner\nfor i in range(8):\n    first_diag.append(bottom_left_corner + up_right_interval*i)\ndiag_1 = np.array(first_diag)\n\nup_diag_interval = adj_bottom_left_corner - bottom_left_corner\ndiag_2 = diag_1[:-1] + up_diag_interval\n\nright_interval = down_adj_bottom_left_corner - diag_2[0]\n\ndiags = [diag_1, diag_2]\nfor i in range(13):\n    if i % 2 == 0:\n        diags.append(diags[i+1] + right_interval)\n    else:\n        diags.append(diags[i+1][:-1] + up_diag_interval)\n\nmin_dot_cord = [0, 0]\nmin_dot = 10\nfor i in range(len(diags)):\n    diags[i] = diags[i].astype(float)\n    for j in range(len(diags[i])):\n        current_dot = abs(1 - np.dot(target_vector, diags[i][j] / np.linalg.norm(diags[i][j])))\n        #print(diags[i][j] / np.linalg.norm(diags[i][j]))\n        if current_dot < min_dot:\n            min_dot = current_dot\n            min_dot_cord = (i, j)\nprint(min_dot_cord)\nprint(diags[min_dot_cord[0]][min_dot_cord[1]] / np.linalg.norm(diags[min_dot_cord[0]][min_dot_cord[1]]))\nprint(min_dot)",
      "metadata": {
        "trusted": true
      },
      "execution_count": 8,
      "outputs": [
        {
          "name": "stdout",
          "text": "(6, 0)\n[ 0.29737348 -0.94155051  0.15827711]\n3.8402614421784165e-13\n",
          "output_type": "stream"
        }
      ]
    },
    {
      "cell_type": "code",
      "source": "# Glyph 7/7\n\nt = Symbol('t')\nSV_bottom_left = np.array([0.29737401362962, -0.94155014025356, 0.15827832892193])\nt1 = solve(0.18983879552606*(SV_bottom_left[0]*t - 0.18983879552606) - 0.9818152737217*(SV_bottom_left[1]*t + 0.9818152737217) + 0*(SV_bottom_left[2]*t - 0), t)\n#print(t1)\nbottom_left_corner = SV_bottom_left * t1\n\nSV_adj_bottom_left = np.array([0.29737393754495, -0.94155019345204, 0.15827815540825])\nt2 = solve(0.18983879552606*(SV_adj_bottom_left[0]*t - 0.18983879552606) - 0.9818152737217*(SV_adj_bottom_left[1]*t + 0.9818152737217) + 0*(SV_adj_bottom_left[2]*t - 0), t)\n#print(t2)\nadj_bottom_left_corner = SV_adj_bottom_left * t2\n\nSV_up_adj_bottom_left = np.array([0.29737376842229, -0.94155024617116, 0.15827815954627])\nt3 = solve(0.18983879552606*(SV_up_adj_bottom_left[0]*t - 0.18983879552606) - 0.9818152737217*(SV_up_adj_bottom_left[1]*t + 0.9818152737217) + 0*(SV_up_adj_bottom_left[2]*t - 0), t)\n#print(t3)\nup_adj_bottom_left_corner = SV_up_adj_bottom_left * t3\n\nSV_down_adj_bottom_left = np.array([0.29737403058292, -0.94155019393136, 0.15827797775651])\nt4 = solve(0.18983879552606*(SV_down_adj_bottom_left[0]*t - 0.18983879552606) - 0.9818152737217*(SV_down_adj_bottom_left[1]*t + 0.9818152737217) + 0*(SV_down_adj_bottom_left[2]*t - 0), t)\n#print(t4)\ndown_adj_bottom_left_corner = SV_down_adj_bottom_left * t4\n\nfirst_diag = []\nup_right_interval = up_adj_bottom_left_corner - bottom_left_corner\nfor i in range(8):\n    first_diag.append(bottom_left_corner + up_right_interval*i)\ndiag_1 = np.array(first_diag)\n\nup_diag_interval = adj_bottom_left_corner - bottom_left_corner\ndiag_2 = diag_1[:-1] + up_diag_interval\n\nright_interval = down_adj_bottom_left_corner - diag_2[0]\n\ndiags = [diag_1, diag_2]\nfor i in range(13):\n    if i % 2 == 0:\n        diags.append(diags[i+1] + right_interval)\n    else:\n        diags.append(diags[i+1][:-1] + up_diag_interval)\n\nmin_dot_cord = [0, 0]\nmin_dot = 10\nfor i in range(len(diags)):\n    diags[i] = diags[i].astype(float)\n    for j in range(len(diags[i])):\n        current_dot = abs(1 - np.dot(target_vector, diags[i][j] / np.linalg.norm(diags[i][j])))\n        #print(diags[i][j] / np.linalg.norm(diags[i][j]))\n        if current_dot < min_dot:\n            min_dot = current_dot\n            min_dot_cord = (i, j)\nprint(min_dot_cord)\nprint(diags[min_dot_cord[0]][min_dot_cord[1]] / np.linalg.norm(diags[min_dot_cord[0]][min_dot_cord[1]]))\nprint(min_dot)",
      "metadata": {
        "trusted": true
      },
      "execution_count": 9,
      "outputs": [
        {
          "name": "stdout",
          "text": "(3, 0)\n[ 0.29737395 -0.94155025  0.1582778 ]\n1.5543122344752192e-15\n",
          "output_type": "stream"
        }
      ]
    },
    {
      "cell_type": "code",
      "source": "print(np.dot(target_vector, [0.18983879552606, -0.9818152737217, 0]))\nprint(np.dot(target_vector, [0.39831700267993, -0.85296865578697, 0.3373248250886]))\n#print(np.dot(target_vector, np.array([0.32750377614459, -0.92692341833681, 0.1831782005312])))\nprint(np.array([0.31135363, -0.95831709,  0.17362526] / np.linalg.norm([0.31135363, -0.95831709,  0.17362526])))\nprint(target_vector)\n0.29737404753619, -0.94155024760905, 0.15827762659103",
      "metadata": {
        "trusted": true
      },
      "execution_count": 32,
      "outputs": [
        {
          "name": "stdout",
          "text": "0.9808815269512343\n0.9749529835126061\n[ 0.30450929 -0.93725085  0.16980854]\n[ 0.29737395 -0.94155025  0.1582778 ]\n",
          "output_type": "stream"
        }
      ]
    },
    {
      "cell_type": "code",
      "source": "",
      "metadata": {},
      "execution_count": null,
      "outputs": []
    }
  ]
}